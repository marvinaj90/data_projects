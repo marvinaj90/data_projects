{
 "cells": [
  {
   "cell_type": "code",
   "execution_count": 34,
   "id": "6fbccad4",
   "metadata": {},
   "outputs": [
    {
     "data": {
      "text/html": [
       "<div>\n",
       "<style scoped>\n",
       "    .dataframe tbody tr th:only-of-type {\n",
       "        vertical-align: middle;\n",
       "    }\n",
       "\n",
       "    .dataframe tbody tr th {\n",
       "        vertical-align: top;\n",
       "    }\n",
       "\n",
       "    .dataframe thead th {\n",
       "        text-align: right;\n",
       "    }\n",
       "</style>\n",
       "<table border=\"1\" class=\"dataframe\">\n",
       "  <thead>\n",
       "    <tr style=\"text-align: right;\">\n",
       "      <th></th>\n",
       "      <th>tripduration_sec</th>\n",
       "      <th>start_time</th>\n",
       "      <th>stop_time</th>\n",
       "      <th>start_station_id</th>\n",
       "      <th>start_station_name</th>\n",
       "      <th>start_latitude</th>\n",
       "      <th>start_longitude</th>\n",
       "      <th>end_station_id</th>\n",
       "      <th>end_station_name</th>\n",
       "      <th>end_latitude</th>\n",
       "      <th>end_longitude</th>\n",
       "      <th>bikeid</th>\n",
       "      <th>usertype</th>\n",
       "      <th>birth_year</th>\n",
       "      <th>gender</th>\n",
       "    </tr>\n",
       "  </thead>\n",
       "  <tbody>\n",
       "    <tr>\n",
       "      <th>0</th>\n",
       "      <td>320</td>\n",
       "      <td>2019-01-01 00:01:47.4010</td>\n",
       "      <td>2019-01-01 00:07:07.5810</td>\n",
       "      <td>3160.0</td>\n",
       "      <td>Central Park West &amp; W 76 St</td>\n",
       "      <td>40.778968</td>\n",
       "      <td>-73.973747</td>\n",
       "      <td>3283.0</td>\n",
       "      <td>W 89 St &amp; Columbus Ave</td>\n",
       "      <td>40.788221</td>\n",
       "      <td>-73.970416</td>\n",
       "      <td>15839</td>\n",
       "      <td>Subscriber</td>\n",
       "      <td>1971</td>\n",
       "      <td>1</td>\n",
       "    </tr>\n",
       "    <tr>\n",
       "      <th>1</th>\n",
       "      <td>316</td>\n",
       "      <td>2019-01-01 00:04:43.7360</td>\n",
       "      <td>2019-01-01 00:10:00.6080</td>\n",
       "      <td>519.0</td>\n",
       "      <td>Pershing Square North</td>\n",
       "      <td>40.751873</td>\n",
       "      <td>-73.977706</td>\n",
       "      <td>518.0</td>\n",
       "      <td>E 39 St &amp; 2 Ave</td>\n",
       "      <td>40.747804</td>\n",
       "      <td>-73.973442</td>\n",
       "      <td>32723</td>\n",
       "      <td>Subscriber</td>\n",
       "      <td>1964</td>\n",
       "      <td>1</td>\n",
       "    </tr>\n",
       "    <tr>\n",
       "      <th>2</th>\n",
       "      <td>591</td>\n",
       "      <td>2019-01-01 00:06:03.9970</td>\n",
       "      <td>2019-01-01 00:15:55.4380</td>\n",
       "      <td>3171.0</td>\n",
       "      <td>Amsterdam Ave &amp; W 82 St</td>\n",
       "      <td>40.785247</td>\n",
       "      <td>-73.976673</td>\n",
       "      <td>3154.0</td>\n",
       "      <td>E 77 St &amp; 3 Ave</td>\n",
       "      <td>40.773142</td>\n",
       "      <td>-73.958562</td>\n",
       "      <td>27451</td>\n",
       "      <td>Subscriber</td>\n",
       "      <td>1987</td>\n",
       "      <td>1</td>\n",
       "    </tr>\n",
       "    <tr>\n",
       "      <th>3</th>\n",
       "      <td>2719</td>\n",
       "      <td>2019-01-01 00:07:03.5450</td>\n",
       "      <td>2019-01-01 00:52:22.6500</td>\n",
       "      <td>504.0</td>\n",
       "      <td>1 Ave &amp; E 16 St</td>\n",
       "      <td>40.732219</td>\n",
       "      <td>-73.981656</td>\n",
       "      <td>3709.0</td>\n",
       "      <td>W 15 St &amp; 6 Ave</td>\n",
       "      <td>40.738046</td>\n",
       "      <td>-73.996430</td>\n",
       "      <td>21579</td>\n",
       "      <td>Subscriber</td>\n",
       "      <td>1990</td>\n",
       "      <td>1</td>\n",
       "    </tr>\n",
       "    <tr>\n",
       "      <th>4</th>\n",
       "      <td>303</td>\n",
       "      <td>2019-01-01 00:07:35.9450</td>\n",
       "      <td>2019-01-01 00:12:39.5020</td>\n",
       "      <td>229.0</td>\n",
       "      <td>Great Jones St</td>\n",
       "      <td>40.727434</td>\n",
       "      <td>-73.993790</td>\n",
       "      <td>503.0</td>\n",
       "      <td>E 20 St &amp; Park Ave</td>\n",
       "      <td>40.738274</td>\n",
       "      <td>-73.987520</td>\n",
       "      <td>35379</td>\n",
       "      <td>Subscriber</td>\n",
       "      <td>1979</td>\n",
       "      <td>1</td>\n",
       "    </tr>\n",
       "  </tbody>\n",
       "</table>\n",
       "</div>"
      ],
      "text/plain": [
       "   tripduration_sec                start_time                 stop_time  \\\n",
       "0               320  2019-01-01 00:01:47.4010  2019-01-01 00:07:07.5810   \n",
       "1               316  2019-01-01 00:04:43.7360  2019-01-01 00:10:00.6080   \n",
       "2               591  2019-01-01 00:06:03.9970  2019-01-01 00:15:55.4380   \n",
       "3              2719  2019-01-01 00:07:03.5450  2019-01-01 00:52:22.6500   \n",
       "4               303  2019-01-01 00:07:35.9450  2019-01-01 00:12:39.5020   \n",
       "\n",
       "   start_station_id           start_station_name  start_latitude  \\\n",
       "0            3160.0  Central Park West & W 76 St       40.778968   \n",
       "1             519.0        Pershing Square North       40.751873   \n",
       "2            3171.0      Amsterdam Ave & W 82 St       40.785247   \n",
       "3             504.0              1 Ave & E 16 St       40.732219   \n",
       "4             229.0               Great Jones St       40.727434   \n",
       "\n",
       "   start_longitude  end_station_id        end_station_name  end_latitude  \\\n",
       "0       -73.973747          3283.0  W 89 St & Columbus Ave     40.788221   \n",
       "1       -73.977706           518.0         E 39 St & 2 Ave     40.747804   \n",
       "2       -73.976673          3154.0         E 77 St & 3 Ave     40.773142   \n",
       "3       -73.981656          3709.0         W 15 St & 6 Ave     40.738046   \n",
       "4       -73.993790           503.0      E 20 St & Park Ave     40.738274   \n",
       "\n",
       "   end_longitude  bikeid    usertype  birth_year  gender  \n",
       "0     -73.970416   15839  Subscriber        1971       1  \n",
       "1     -73.973442   32723  Subscriber        1964       1  \n",
       "2     -73.958562   27451  Subscriber        1987       1  \n",
       "3     -73.996430   21579  Subscriber        1990       1  \n",
       "4     -73.987520   35379  Subscriber        1979       1  "
      ]
     },
     "execution_count": 34,
     "metadata": {},
     "output_type": "execute_result"
    }
   ],
   "source": [
    "import pandas as pd\n",
    "import seaborn as sns\n",
    "import matplotlib.pyplot as plt\n",
    "%matplotlib inline\n",
    "\n",
    "rides = pd.read_csv('./data_files/2019_tripdata.csv')\n",
    "rides.head()\n"
   ]
  },
  {
   "cell_type": "code",
   "execution_count": 35,
   "id": "967681f2",
   "metadata": {},
   "outputs": [
    {
     "data": {
      "text/plain": [
       "0"
      ]
     },
     "execution_count": 35,
     "metadata": {},
     "output_type": "execute_result"
    }
   ],
   "source": [
    "rides.drop(columns=['stop_time','start_latitude','end_latitude','start_longitude','end_longitude'], inplace=True)\n",
    "rides.dropna()\n",
    "rides.isna().sum().sum()"
   ]
  },
  {
   "cell_type": "code",
   "execution_count": 36,
   "id": "a2782edd",
   "metadata": {
    "scrolled": true
   },
   "outputs": [
    {
     "name": "stdout",
     "output_type": "stream",
     "text": [
      "count    18106797.0\n",
      "mean           16.0\n",
      "std           178.0\n",
      "min             1.0\n",
      "25%             6.0\n",
      "50%            10.0\n",
      "75%            18.0\n",
      "max         63544.0\n",
      "Name: tripduration_sec, dtype: float64\n"
     ]
    },
    {
     "data": {
      "text/plain": [
       "10.133333333333333"
      ]
     },
     "execution_count": 36,
     "metadata": {},
     "output_type": "execute_result"
    }
   ],
   "source": [
    "minutes =rides['tripduration_sec']/60\n",
    "print(minutes.describe().round())\n",
    "minutes.median()\n"
   ]
  },
  {
   "cell_type": "code",
   "execution_count": 58,
   "id": "a3002e86",
   "metadata": {},
   "outputs": [
    {
     "name": "stdout",
     "output_type": "stream",
     "text": [
      "66975\n"
     ]
    },
    {
     "data": {
      "image/png": "[encoded data removed]",
      "text/plain": [
       "<Figure size 432x288 with 1 Axes>"
      ]
     },
     "metadata": {
      "needs_background": "light"
     },
     "output_type": "display_data"
    }
   ],
   "source": [
    "x =minutes.where((minutes>90)&(minutes < 600))\n",
    "print(x.count())\n",
    "plt.hist(x, bins =20)\n",
    "plt.show()"
   ]
  },
  {
   "cell_type": "markdown",
   "id": "9c89029b",
   "metadata": {},
   "source": [
    "## Outliers\n",
    "Looking at the pricing for Citi Bike the single pass is for 30 minutes and the annual pass is for 45 minutes. Every minute after is \\\\$0.23 and \\\\$0.15 respectively. Meaning most long trips in the data are likely a result of improperly docking or possibly theft. Rides over 90 minutes are considered outliers and removed from the data set.\n"
   ]
  },
  {
   "cell_type": "code",
   "execution_count": 61,
   "id": "f82d24ba",
   "metadata": {},
   "outputs": [
    {
     "data": {
      "text/plain": [
       "Series([], dtype: int64)"
      ]
     },
     "execution_count": 61,
     "metadata": {},
     "output_type": "execute_result"
    }
   ],
   "source": [
    "rides.drop(rides[rides['tripduration_sec']>5400].index, inplace=True)\n",
    "rides[rides['tripduration_sec']>5400].value_counts()"
   ]
  },
  {
   "cell_type": "code",
   "execution_count": 60,
   "id": "1b30172d",
   "metadata": {},
   "outputs": [
    {
     "data": {
      "image/png": "[encoded data removed]",
      "text/plain": [
       "<Figure size 432x288 with 1 Axes>"
      ]
     },
     "metadata": {
      "needs_background": "light"
     },
     "output_type": "display_data"
    }
   ],
   "source": [
    "rides['start_time']= pd.to_datetime(rides[\"start_time\"])\n",
    "mean_time = rides.groupby(rides['start_time'].dt.month)['tripduration_sec'].mean()\n",
    "mean_time.plot()\n",
    "plt.show()"
   ]
  }
 ],
 "metadata": {
  "kernelspec": {
   "display_name": "Python 3 (ipykernel)",
   "language": "python",
   "name": "python3"
  },
  "language_info": {
   "codemirror_mode": {
    "name": "ipython",
    "version": 3
   },
   "file_extension": ".py",
   "mimetype": "text/x-python",
   "name": "python",
   "nbconvert_exporter": "python",
   "pygments_lexer": "ipython3",
   "version": "3.10.5"
  }
 },
 "nbformat": 4,
 "nbformat_minor": 5
}
